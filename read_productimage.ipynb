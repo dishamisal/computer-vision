{
 "cells": [
  {
   "cell_type": "code",
   "execution_count": 146,
   "metadata": {},
   "outputs": [],
   "source": [
    "# Installing relevant packages\n",
    "# !pip install pandas\n",
    "# !pip install pytesseract\n",
    "# !pip install image\n",
    "# !pip install pillow\n",
    "# !pip install pytesseract\n",
    "# !pip install opencv-python"
   ]
  },
  {
   "cell_type": "code",
   "execution_count": 149,
   "metadata": {},
   "outputs": [],
   "source": [
    "# Importing relevant packages\n",
    "import os\n",
    "import cv2\n",
    "import pytesseract\n",
    "from PIL import Image\n",
    "from pytesseract import image_to_string"
   ]
  },
  {
   "cell_type": "code",
   "execution_count": 54,
   "metadata": {},
   "outputs": [],
   "source": [
    "\n"
   ]
  },
  {
   "cell_type": "code",
   "execution_count": 69,
   "metadata": {},
   "outputs": [
    {
     "name": "stdout",
     "output_type": "stream",
     "text": [
      "Requirement already satisfied: opencv-python in ./my_project_env/lib/python3.5/site-packages (4.4.0.42)\n",
      "Requirement already satisfied: numpy>=1.13.1 in ./my_project_env/lib/python3.5/site-packages (from opencv-python) (1.18.1)\n",
      "\u001b[33mWARNING: You are using pip version 20.0.2; however, version 20.2.3 is available.\n",
      "You should consider upgrading via the '/home/disha/my_project_dir/my_project_env/bin/python -m pip install --upgrade pip' command.\u001b[0m\n"
     ]
    }
   ],
   "source": [
    "pytesseract.pytesseract.tesseract_cmd = '/usr/bin/tesseract'\n"
   ]
  },
  {
   "cell_type": "code",
   "execution_count": 151,
   "metadata": {},
   "outputs": [],
   "source": [
    "# Seperating all the unwanted characters (\"\\n\" and extracting the relevant words)\n",
    "def combineChunks(imgStr):\n",
    "    # Combine chunks between '\\n'\n",
    "    imgCombinedStr = \"\".join(imgStr)\n",
    "    return imgCombinedStr.split(\"\\n\")"
   ]
  },
  {
   "cell_type": "code",
   "execution_count": 152,
   "metadata": {},
   "outputs": [
    {
     "name": "stdout",
     "output_type": "stream",
     "text": [
      "Package: 1, Image: ['2', 'jpeg']\n",
      " \n",
      "-----------------------------\n",
      "\n",
      "Package: 1, Image: ['01', 'jpeg']\n",
      ",2:\n",
      "3;\n",
      "AASHIRVAAD\n",
      " \n",
      "-----------------------------\n",
      "\n",
      "Package: 1, Image: ['03', 'jpeg']\n",
      " \n",
      " \n",
      "‘Awuimm Valm\n",
      "-----------------------------\n",
      "\n",
      "Package: 2, Image: ['02', 'jpg']\n",
      " \n",
      "-----------------------------\n",
      "\n",
      "Package: 2, Image: ['01', 'jpg']\n",
      " \n",
      "-----------------------------\n",
      "\n",
      "Package: 3, Image: ['02', 'jpg']\n",
      "nu\n",
      ".nmyaun\n",
      " \n",
      "-----------------------------\n",
      "\n",
      "Package: 3, Image: ['01', 'jpg']\n",
      " \n",
      "TATA\n",
      "sampann\n",
      "Tour I Arhar :P\n",
      "Dal\n",
      ", I\n",
      "l\n",
      "a\n",
      "l\n",
      "L\n",
      " \n",
      "-----------------------------\n",
      "\n",
      "Package: 3, Image: ['03', 'jpeg']\n",
      " \n",
      "-----------------------------\n",
      "\n",
      "Package: 4, Image: ['02', 'jpg']\n",
      " \n",
      " \n",
      "-----------------------------\n",
      "\n",
      "Package: 4, Image: ['01', 'jpg']\n",
      "'w\n",
      "gamma. \"\n",
      " \n",
      "-----------------------------\n",
      "\n",
      "Package: 5, Image: ['01', 'jpeg']\n",
      "» — * “mum mmwmm\n",
      "   \n",
      " \n",
      "  \n",
      "V PASYEItD‘ﬂEED‘\n",
      "EWV?\n",
      "J J L, .0\n",
      "many huneny dancmus\n",
      " \n",
      "-----------------------------\n",
      "\n",
      "Package: 5, Image: ['03', 'jpeg']\n",
      "Net Weight: 500 g anmu—Anmll- um\n",
      " \n",
      "-----------------------------\n",
      "\n",
      "Package: 5, Image: ['02', 'jpeg']\n",
      "MW\n",
      " \n",
      "-----------------------------\n",
      "\n"
     ]
    }
   ],
   "source": [
    "# Loop though all the image files inside the given folders and extract the text inside it\n",
    "FILES = 5\n",
    "SENTENCE_CAP = 0\n",
    "PREFIX = r'/home/disha/Documents/Interviews/Text Mercato/package_images/package_images/'\n",
    "\n",
    "for i in range(1, FILES+1):\n",
    "    images = os.listdir(PREFIX + str(i))\n",
    "    for image in images:\n",
    "        img = Image.open(PREFIX + str(i) + '/' + image).convert(\"RGB\")\n",
    "        imgStr = image_to_string(img, lang='eng')\n",
    "        sentences = combineChunks(imgStr)\n",
    "        print(\"Package: \" + str(i) + \", Image: \" + str(image.split((\".\")[0])))\n",
    "        [print(sentence) for sentence in sentences if len(sentence) > SENTENCE_CAP]\n",
    "        print(\"-----------------------------\")\n",
    "        print(\"\")"
   ]
  },
  {
   "cell_type": "code",
   "execution_count": 15,
   "metadata": {},
   "outputs": [],
   "source": []
  }
 ],
 "metadata": {
  "kernelspec": {
   "display_name": "Python 3",
   "language": "python",
   "name": "python3"
  },
  "language_info": {
   "codemirror_mode": {
    "name": "ipython",
    "version": 3
   },
   "file_extension": ".py",
   "mimetype": "text/x-python",
   "name": "python",
   "nbconvert_exporter": "python",
   "pygments_lexer": "ipython3",
   "version": "3.5.2"
  }
 },
 "nbformat": 4,
 "nbformat_minor": 4
}
